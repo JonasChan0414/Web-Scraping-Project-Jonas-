{
 "cells": [
  {
   "cell_type": "code",
   "execution_count": 2,
   "id": "b566851e",
   "metadata": {},
   "outputs": [
    {
     "name": "stdout",
     "output_type": "stream",
     "text": [
      "Fin.\n",
      "                                                 title       price  \\\n",
      "0    \\nOptimum Nutrition, Gold Standard 100% Whey, ...  \\n$89.95\\n   \n",
      "1    \\nCalifornia Gold Nutrition, SPORT - Whey Prot...  \\n$23.00\\n   \n",
      "2    \\nOptimum Nutrition, Gold Standard 100% Whey, ...  \\n$55.58\\n   \n",
      "3    \\nLake Avenue Nutrition, Whey Protein + Probio...  \\n$60.00\\n   \n",
      "4    \\nCalifornia Gold Nutrition, 100% Whey Protein...  \\n$73.00\\n   \n",
      "..                                                 ...         ...   \n",
      "211  \\nQuest Nutrition, Protein Powder, Chocolate M...  \\n$44.14\\n   \n",
      "212  \\nRSP Nutrition, TrueFit, Grass-Fed Protein Sh...  \\n$57.88\\n   \n",
      "213  \\nPEScience, Select Protein, Protein Powder Dr...  \\n$36.99\\n   \n",
      "214  \\nOptimum Nutrition, Gold Standard 100% Whey, ...  \\n$55.66\\n   \n",
      "215  \\nBPI Sports, ISO HD, 100% Pure Isolate Protei...  \\n$81.60\\n   \n",
      "\n",
      "                     stars  \n",
      "0    4.7/5 - 24734 Reviews  \n",
      "1    4.6/5 - 14858 Reviews  \n",
      "2    4.7/5 - 24734 Reviews  \n",
      "3     4.6/5 - 1458 Reviews  \n",
      "4     4.5/5 - 6579 Reviews  \n",
      "..                     ...  \n",
      "211    4.4/5 - 166 Reviews  \n",
      "212   4.6/5 - 1277 Reviews  \n",
      "213     4.6/5 - 30 Reviews  \n",
      "214    4.5/5 - 486 Reviews  \n",
      "215     4.2/5 - 86 Reviews  \n",
      "\n",
      "[216 rows x 3 columns]\n"
     ]
    }
   ],
   "source": [
    "#Scraping data of products and building a data frame. \n",
    "# I used VPN (american server) in order to access the titles of the products in English. \n",
    "#The code was though unstable for unknown reasons. I had to make some changes on it after the presentation to make sure it runs okay so the data here is different from the powerpoint. \n",
    "#Please refer to the excel file titled \"project_1018\" to see the original dataframe.\n",
    "\n",
    "import requests\n",
    "import pandas as pd\n",
    "from bs4 import BeautifulSoup as soup\n",
    "\n",
    "header_1 = {'User-Agent': 'Mozilla/5.0 (Windows NT 10.0; Win64; x64) AppleWebKit/537.36 (KHTML, like Gecko) Chrome/105.0.0.0 Safari/537.36'}\n",
    "\n",
    "whey_list = []\n",
    "url = 'https://www.iherb.com/c/whey-protein?p='\n",
    "\n",
    "for page in range(1,10):\n",
    "    \n",
    "    r = requests.get(url + str(page))\n",
    "    bsobj = soup(r.text, \"html.parser\")\n",
    "    whey = bsobj.findAll('div',{'class':'product-inner product-inner-wide'})\n",
    "    for item in whey:\n",
    "        dict_1 = {\n",
    "        \"title\" : item.find('div',{\"class\":\"product-title\"}).text,\n",
    "        \"price\" : item.find('span',{\"class\":\"price\"}).text,\n",
    "        \"stars\" : item.find('a',{\"class\":\"rating-count\"}).get(\"title\")\n",
    "        }\n",
    "        whey_list.append(dict_1)\n",
    "   \n",
    "\n",
    "\n",
    "df = pd.DataFrame(whey_list)\n",
    "\n",
    "print(\"Fin.\")\n",
    "print (df)\n"
   ]
  },
  {
   "cell_type": "code",
   "execution_count": 3,
   "id": "20343097",
   "metadata": {},
   "outputs": [],
   "source": [
    "#extract the numeric value from the price column and create a new column\n",
    "df['prices in USD'] = df['price'].dropna().apply(lambda x: str(x).split(\"$\")[1])"
   ]
  },
  {
   "cell_type": "code",
   "execution_count": 6,
   "id": "eb0c6281",
   "metadata": {},
   "outputs": [],
   "source": [
    "# keep only the 5 pound version of all products\n",
    "df_whey5lb = df[df[\"title\"].str.contains(\" 5 lb\")]"
   ]
  },
  {
   "cell_type": "code",
   "execution_count": 13,
   "id": "f6e6a960",
   "metadata": {},
   "outputs": [],
   "source": [
    "# extract the numerebr of stars out of \"stars\" column  and create a new column\n",
    "df_whey5lb['Stars out of 5'] = df_whey5lb['stars'].dropna().apply(lambda x: str(x).split(\"/5\")[0])\n",
    "df_whey5lb['Review count'] = df_whey5lb['stars'].dropna().apply(lambda x: str(x).split(\" - \")[1])\n",
    "df_whey5lb['Review count'] = df_whey5lb['Review count'].dropna().apply(lambda x: str(x).split(\" Review\")[0])"
   ]
  },
  {
   "cell_type": "code",
   "execution_count": 14,
   "id": "337b518b",
   "metadata": {},
   "outputs": [
    {
     "name": "stdout",
     "output_type": "stream",
     "text": [
      "title              object\n",
      "price              object\n",
      "stars              object\n",
      "prices in USD     float64\n",
      "Stars out of 5    float64\n",
      "Review count        int32\n",
      "dtype: object\n"
     ]
    }
   ],
   "source": [
    "df_whey5lb = df_whey5lb.astype({'prices in USD':'float'})\n",
    "df_whey5lb = df_whey5lb.astype({'Stars out of 5':'float'})\n",
    "df_whey5lb = df_whey5lb.astype({'Review count':'int'})\n",
    "print(df_whey5lb.dtypes)"
   ]
  },
  {
   "cell_type": "code",
   "execution_count": 15,
   "id": "dfa26d2c",
   "metadata": {},
   "outputs": [],
   "source": [
    "del df_whey5lb['price']"
   ]
  },
  {
   "cell_type": "code",
   "execution_count": 16,
   "id": "7e3786ce",
   "metadata": {},
   "outputs": [],
   "source": [
    "del df_whey5lb['stars']"
   ]
  },
  {
   "cell_type": "code",
   "execution_count": 18,
   "id": "c4508da0",
   "metadata": {},
   "outputs": [],
   "source": [
    "# arrange the products in descending order of the number of reviews they have\n",
    "df_whey5lb = df_whey5lb.sort_values(\"Review count\", axis = 0, ascending = False)"
   ]
  },
  {
   "cell_type": "code",
   "execution_count": 23,
   "id": "f51a477f",
   "metadata": {},
   "outputs": [],
   "source": [
    "# extract the flacours of the product from the \"title\" column and create a new column\n",
    "key_word = ['Chocolate', 'Strawberry', 'Vanilla', 'Mocha','Banana', \n",
    "        'Cookies', \"Unflavored\"]\n",
    "\n",
    "df_whey5lb['flavours'] = df_whey5lb['title'].str.findall('|'.join(key_word))"
   ]
  },
  {
   "cell_type": "code",
   "execution_count": 26,
   "id": "90b1ff0e",
   "metadata": {},
   "outputs": [
    {
     "name": "stderr",
     "output_type": "stream",
     "text": [
      "C:\\Users\\jonas\\anaconda3\\lib\\site-packages\\seaborn\\_decorators.py:36: FutureWarning: Pass the following variable as a keyword arg: x. From version 0.12, the only valid positional argument will be `data`, and passing other arguments without an explicit keyword will result in an error or misinterpretation.\n",
      "  warnings.warn(\n"
     ]
    },
    {
     "data": {
      "text/plain": [
       "<AxesSubplot:xlabel='Review count'>"
      ]
     },
     "execution_count": 26,
     "metadata": {},
     "output_type": "execute_result"
    },
    {
     "data": {
      "image/png": "[encoded data removed]",
      "text/plain": [
       "<Figure size 432x288 with 1 Axes>"
      ]
     },
     "metadata": {
      "needs_background": "light"
     },
     "output_type": "display_data"
    }
   ],
   "source": [
    "# box plot to see if there are outliers\n",
    "import seaborn as sns\n",
    "sns.boxplot(df_whey5lb['Review count'])\n"
   ]
  },
  {
   "cell_type": "code",
   "execution_count": 27,
   "id": "41362bfc",
   "metadata": {},
   "outputs": [],
   "source": [
    "#remove outliers\n",
    "df_whey5lb = df_whey5lb.drop(df.index [ [ 0,7,4,24] ])"
   ]
  },
  {
   "cell_type": "code",
   "execution_count": 28,
   "id": "419b338b",
   "metadata": {},
   "outputs": [],
   "source": [
    "df_whey5lb = df_whey5lb.drop(df.index [ [39] ])"
   ]
  },
  {
   "cell_type": "code",
   "execution_count": 29,
   "id": "ce6f02a5",
   "metadata": {},
   "outputs": [],
   "source": [
    "df_whey5lb = df_whey5lb.drop(df.index [ [16] ])"
   ]
  },
  {
   "cell_type": "code",
   "execution_count": 32,
   "id": "febdb243",
   "metadata": {},
   "outputs": [],
   "source": [
    "df_whey5lb = df_whey5lb.drop(df.index [ [38] ]) # remove two more outliers than the original data frame"
   ]
  },
  {
   "cell_type": "code",
   "execution_count": 35,
   "id": "f0ebeb16",
   "metadata": {},
   "outputs": [],
   "source": [
    "df_whey5lb = df_whey5lb.drop(df.index [ [44] ])"
   ]
  },
  {
   "cell_type": "code",
   "execution_count": 36,
   "id": "c4e649de",
   "metadata": {},
   "outputs": [
    {
     "name": "stderr",
     "output_type": "stream",
     "text": [
      "C:\\Users\\jonas\\anaconda3\\lib\\site-packages\\seaborn\\_decorators.py:36: FutureWarning: Pass the following variable as a keyword arg: x. From version 0.12, the only valid positional argument will be `data`, and passing other arguments without an explicit keyword will result in an error or misinterpretation.\n",
      "  warnings.warn(\n"
     ]
    },
    {
     "data": {
      "text/plain": [
       "<AxesSubplot:xlabel='Review count'>"
      ]
     },
     "execution_count": 36,
     "metadata": {},
     "output_type": "execute_result"
    },
    {
     "data": {
      "image/png": "[encoded data removed]",
      "text/plain": [
       "<Figure size 432x288 with 1 Axes>"
      ]
     },
     "metadata": {
      "needs_background": "light"
     },
     "output_type": "display_data"
    }
   ],
   "source": [
    "#box plot after removal of outliers\n",
    "sns.boxplot(df_whey5lb['Review count'])"
   ]
  },
  {
   "cell_type": "code",
   "execution_count": 37,
   "id": "6de86c42",
   "metadata": {},
   "outputs": [
    {
     "data": {
      "image/png": "[encoded data removed]",
      "text/plain": [
       "<Figure size 432x288 with 1 Axes>"
      ]
     },
     "metadata": {
      "needs_background": "light"
     },
     "output_type": "display_data"
    }
   ],
   "source": [
    "#scatter plot #1\n",
    "import matplotlib.pyplot as plt\n",
    "scatter_plot = df_whey5lb.plot.scatter(x='Review count',y='prices in USD')\n",
    "scatter_plot.plot()\n",
    "plt.show()"
   ]
  },
  {
   "cell_type": "code",
   "execution_count": 39,
   "id": "3715e9af",
   "metadata": {},
   "outputs": [
    {
     "data": {
      "image/png": "[encoded data removed]",
      "text/plain": [
       "<Figure size 432x288 with 1 Axes>"
      ]
     },
     "metadata": {
      "needs_background": "light"
     },
     "output_type": "display_data"
    }
   ],
   "source": [
    "#scatter plot #2\n",
    "scatter_plot_2 = df_whey5lb.plot.scatter(x='Review count',y='Stars out of 5')\n",
    "scatter_plot_2.plot()\n",
    "plt.show()"
   ]
  },
  {
   "cell_type": "code",
   "execution_count": 67,
   "id": "587c5b1e",
   "metadata": {},
   "outputs": [
    {
     "data": {
      "image/png": "[encoded data removed]",
      "text/plain": [
       "<Figure size 432x288 with 1 Axes>"
      ]
     },
     "metadata": {
      "needs_background": "light"
     },
     "output_type": "display_data"
    }
   ],
   "source": [
    "# scatter plot #3\n",
    "scatter_plot_3 = df_whey5lb.plot.scatter(x='prices in USD',y='Stars out of 5')\n",
    "scatter_plot_3.plot()\n",
    "plt.show()"
   ]
  },
  {
   "cell_type": "code",
   "execution_count": 77,
   "id": "f12f9445",
   "metadata": {},
   "outputs": [],
   "source": [
    "# turn the whole \"flavours\" column into string \n",
    "df_whey5lb = df_whey5lb.astype({'flavours':'str'})"
   ]
  },
  {
   "cell_type": "code",
   "execution_count": 78,
   "id": "9873822d",
   "metadata": {},
   "outputs": [
    {
     "data": {
      "text/plain": [
       "<AxesSubplot:title={'center':'Popularity by Flavours'}, ylabel='reviews'>"
      ]
     },
     "execution_count": 78,
     "metadata": {},
     "output_type": "execute_result"
    },
    {
     "data": {
      "image/png": "[encoded data removed]",
      "text/plain": [
       "<Figure size 432x288 with 1 Axes>"
      ]
     },
     "metadata": {},
     "output_type": "display_data"
    }
   ],
   "source": [
    "# pie chart of flavours and their popularity\n",
    "df_whey5lb.groupby(['flavours']).sum().plot(kind='pie', y='Review counts',title='Popularity by Flavours')"
   ]
  },
  {
   "cell_type": "code",
   "execution_count": null,
   "id": "37ef60c3",
   "metadata": {},
   "outputs": [],
   "source": []
  }
 ],
 "metadata": {
  "kernelspec": {
   "display_name": "Python 3 (ipykernel)",
   "language": "python",
   "name": "python3"
  },
  "language_info": {
   "codemirror_mode": {
    "name": "ipython",
    "version": 3
   },
   "file_extension": ".py",
   "mimetype": "text/x-python",
   "name": "python",
   "nbconvert_exporter": "python",
   "pygments_lexer": "ipython3",
   "version": "3.9.12"
  }
 },
 "nbformat": 4,
 "nbformat_minor": 5
}
